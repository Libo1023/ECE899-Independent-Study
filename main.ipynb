{
 "cells": [
  {
   "cell_type": "markdown",
   "id": "295eaf79",
   "metadata": {},
   "source": [
    "### ECE 899 Independent Study\n",
    "#### Libo Zhang, Duke University"
   ]
  },
  {
   "cell_type": "code",
   "execution_count": 1,
   "id": "bae39551",
   "metadata": {},
   "outputs": [],
   "source": [
    "import os\n",
    "import sys\n",
    "import torch\n",
    "import itertools\n",
    "import cv2 as cv\n",
    "import numpy as np\n",
    "import torch.nn as nn\n",
    "import torch.optim as optim\n",
    "import matplotlib.pyplot as plt\n",
    "import torch.nn.functional as F\n",
    "%matplotlib inline\n",
    "\n",
    "from sklearn import metrics\n",
    "from torchsummary import summary\n",
    "from torch.utils.data import DataLoader\n",
    "from torch.utils.data import TensorDataset\n",
    "\n",
    "from train import *\n",
    "from models import *\n",
    "from utilities import *"
   ]
  },
  {
   "cell_type": "code",
   "execution_count": 2,
   "id": "92c21100",
   "metadata": {},
   "outputs": [
    {
     "name": "stdout",
     "output_type": "stream",
     "text": [
      "NVIDIA GeForce RTX 2070 with Max-Q Design\n"
     ]
    }
   ],
   "source": [
    "X_train_list, X_valid_list = [], []\n",
    "torch.set_printoptions(profile = \"full\", precision = 3)\n",
    "train_list = build_all_training_file_list(N_normal = 80,   N_tumor = 55)\n",
    "temp_list  = build_all_training_file_list(N_normal = 160,  N_tumor = 111)\n",
    "valid_list = [x for x in temp_list if x not in train_list]\n",
    "device     = torch.device(\"cuda\" if torch.cuda.is_available() else \"cpu\")\n",
    "print(torch.cuda.get_device_name(torch.cuda.current_device()))"
   ]
  },
  {
   "cell_type": "code",
   "execution_count": null,
   "id": "c296ca3e",
   "metadata": {},
   "outputs": [],
   "source": [
    "epochs = 100\n",
    "cut_epochs = 50\n",
    "MA = Attention_Alpha().to(device)\n",
    "MB = Attention_Beta().to(device)\n",
    "ME = ResNet_Encoder().to(device)\n",
    "MT = Basic_Transformer(out_chs = 32).to(device)\n",
    "MC = Classifier(in_channels = 128, cut_epochs = cut_epochs).to(device)\n",
    "criterion  = nn.BCELoss()\n",
    "optimizer1 = optim.Adam(list(MA.parameters()) + \\\n",
    "                        list(MB.parameters()) + \\\n",
    "                        list(ME.parameters()) + \\\n",
    "                        list(MC.parameters()), lr = 1e-4)\n",
    "optimizer2 =      optim.Adam(MT.parameters(),  lr = 1e-4)\n",
    "scheduler  =      optim.lr_scheduler.StepLR(optimizer1, \n",
    "                                            step_size = 10, gamma = 0.5)\n",
    "\n",
    "A, B, C, D, E, F, G, H = Train_Models(MA, MB, ME, MT, MC, \n",
    "                    train_list, valid_list, X_train_list, X_valid_list, \n",
    "                    criterion, optimizer1, optimizer2, scheduler, \n",
    "                    epochs = epochs, cut_epochs = cut_epochs, \n",
    "                    h1 = 3200, w1 = 3200, h2 = 80, w2 = 80, \n",
    "                    s1 = 0.03125, s2 = 0.125, N = 50)\n",
    "np.save(\"train_loss\", A)\n",
    "np.save(\"train_auc\",  B)\n",
    "np.save(\"train_acc\",  C)\n",
    "np.save(\"train_dss\",  D)\n",
    "np.save(\"valid_loss\", E)\n",
    "np.save(\"valid_auc\",  F)\n",
    "np.save(\"valid_acc\",  G)\n",
    "np.save(\"valid_dss\",  H)"
   ]
  },
  {
   "cell_type": "code",
   "execution_count": null,
   "id": "120b45f8",
   "metadata": {},
   "outputs": [],
   "source": []
  },
  {
   "cell_type": "code",
   "execution_count": null,
   "id": "16177f94",
   "metadata": {},
   "outputs": [],
   "source": []
  },
  {
   "cell_type": "code",
   "execution_count": null,
   "id": "999e5ac2",
   "metadata": {},
   "outputs": [],
   "source": []
  }
 ],
 "metadata": {
  "kernelspec": {
   "display_name": "Python 3 (ipykernel)",
   "language": "python",
   "name": "python3"
  },
  "language_info": {
   "codemirror_mode": {
    "name": "ipython",
    "version": 3
   },
   "file_extension": ".py",
   "mimetype": "text/x-python",
   "name": "python",
   "nbconvert_exporter": "python",
   "pygments_lexer": "ipython3",
   "version": "3.9.12"
  }
 },
 "nbformat": 4,
 "nbformat_minor": 5
}
